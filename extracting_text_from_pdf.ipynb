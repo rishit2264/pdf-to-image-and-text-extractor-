{
 "cells": [
  {
   "cell_type": "code",
   "execution_count": 1,
   "metadata": {},
   "outputs": [
    {
     "name": "stdout",
     "output_type": "stream",
     "text": [
      "        Column1      Column2  \\\n",
      "0  CustomerName  PhoneNumber   \n",
      "1         Vansh   8448067969   \n",
      "2        Rishit   2055266365   \n",
      "3        Vedant   1045885241   \n",
      "\n",
      "                                             Column3  \n",
      "0  PhoneNumber                           Location...  \n",
      "1  8448067969                                 Hel...  \n",
      "2  2055266365                                 Del...  \n",
      "3  1045885241                                 Pun...  \n"
     ]
    }
   ],
   "source": [
    "import re\n",
    "import PyPDF2\n",
    "import pandas as pd\n",
    "\n",
    "def extract_columns_text(pdf_path, column_patterns):\n",
    "    with open(pdf_path, 'rb') as file:\n",
    "        reader = PyPDF2.PdfReader(file)\n",
    "        \n",
    "        extracted_columns = [[] for _ in column_patterns]\n",
    "        \n",
    "        for page in reader.pages:\n",
    "            text = page.extract_text()\n",
    "            \n",
    "            for line in text.split('\\n'):\n",
    "                for i, pattern in enumerate(column_patterns):\n",
    "                    match = re.search(pattern, line)\n",
    "                    if match:\n",
    "                        extracted_columns[i].append(match.group(1).strip())\n",
    "    \n",
    "    return extracted_columns\n",
    "\n",
    "# Example usage\n",
    "pdf_path = 's5.pdf'\n",
    "\n",
    "# Define patterns for each column\n",
    "column_patterns = [\n",
    "    r'^(.+?)\\s{2,}',  # First column\n",
    "    r'\\s{2,}(.+?)\\s{2,}',  # Second column\n",
    "    r'\\s{2,}(.+?)$'  # Third column\n",
    "]\n",
    "\n",
    "# Define column names\n",
    "column_names = ['Column1', 'Column2', 'Column3']  # Adjust these names as needed\n",
    "\n",
    "# Extract the data\n",
    "result = extract_columns_text(pdf_path, column_patterns)\n",
    "\n",
    "# Create a dictionary from the extracted data\n",
    "data_dict = {name: column for name, column in zip(column_names, result)}\n",
    "\n",
    "# Create a pandas DataFrame\n",
    "df = pd.DataFrame(data_dict)\n",
    "\n",
    "# Display the first few rows of the DataFrame\n",
    "print(df.head())\n",
    "\n",
    "# Optionally, save the DataFrame to a CSV file\n",
    "# df.to_csv('output.csv', index=False)"
   ]
  },
  {
   "cell_type": "code",
   "execution_count": 2,
   "metadata": {},
   "outputs": [
    {
     "data": {
      "text/html": [
       "<div>\n",
       "<style scoped>\n",
       "    .dataframe tbody tr th:only-of-type {\n",
       "        vertical-align: middle;\n",
       "    }\n",
       "\n",
       "    .dataframe tbody tr th {\n",
       "        vertical-align: top;\n",
       "    }\n",
       "\n",
       "    .dataframe thead th {\n",
       "        text-align: right;\n",
       "    }\n",
       "</style>\n",
       "<table border=\"1\" class=\"dataframe\">\n",
       "  <thead>\n",
       "    <tr style=\"text-align: right;\">\n",
       "      <th></th>\n",
       "      <th>Column1</th>\n",
       "      <th>Column2</th>\n",
       "      <th>Column3</th>\n",
       "    </tr>\n",
       "  </thead>\n",
       "  <tbody>\n",
       "    <tr>\n",
       "      <th>0</th>\n",
       "      <td>CustomerName</td>\n",
       "      <td>PhoneNumber</td>\n",
       "      <td>PhoneNumber                           Location...</td>\n",
       "    </tr>\n",
       "    <tr>\n",
       "      <th>1</th>\n",
       "      <td>Vansh</td>\n",
       "      <td>8448067969</td>\n",
       "      <td>8448067969                                 Hel...</td>\n",
       "    </tr>\n",
       "    <tr>\n",
       "      <th>2</th>\n",
       "      <td>Rishit</td>\n",
       "      <td>2055266365</td>\n",
       "      <td>2055266365                                 Del...</td>\n",
       "    </tr>\n",
       "    <tr>\n",
       "      <th>3</th>\n",
       "      <td>Vedant</td>\n",
       "      <td>1045885241</td>\n",
       "      <td>1045885241                                 Pun...</td>\n",
       "    </tr>\n",
       "  </tbody>\n",
       "</table>\n",
       "</div>"
      ],
      "text/plain": [
       "        Column1      Column2  \\\n",
       "0  CustomerName  PhoneNumber   \n",
       "1         Vansh   8448067969   \n",
       "2        Rishit   2055266365   \n",
       "3        Vedant   1045885241   \n",
       "\n",
       "                                             Column3  \n",
       "0  PhoneNumber                           Location...  \n",
       "1  8448067969                                 Hel...  \n",
       "2  2055266365                                 Del...  \n",
       "3  1045885241                                 Pun...  "
      ]
     },
     "execution_count": 2,
     "metadata": {},
     "output_type": "execute_result"
    }
   ],
   "source": [
    "df"
   ]
  },
  {
   "cell_type": "code",
   "execution_count": 3,
   "metadata": {},
   "outputs": [],
   "source": [
    "df.to_csv('file1.csv')"
   ]
  }
 ],
 "metadata": {
  "kernelspec": {
   "display_name": "Python 3",
   "language": "python",
   "name": "python3"
  },
  "language_info": {
   "codemirror_mode": {
    "name": "ipython",
    "version": 3
   },
   "file_extension": ".py",
   "mimetype": "text/x-python",
   "name": "python",
   "nbconvert_exporter": "python",
   "pygments_lexer": "ipython3",
   "version": "3.12.2"
  }
 },
 "nbformat": 4,
 "nbformat_minor": 2
}
